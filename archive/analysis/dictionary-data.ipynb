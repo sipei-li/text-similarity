{
 "cells": [
  {
   "cell_type": "code",
   "execution_count": 2,
   "metadata": {},
   "outputs": [],
   "source": [
    "import pandas as pd\n",
    "import numpy as np\n",
    "import os\n",
    "from sklearn.metrics import ndcg_score\n",
    "from textsimilarity.get_similarity import get_sent_similarity, get_graph_similarity, cosine_similarity\n",
    "from textsimilarity.preprocess import get_coref_and_dp\n",
    "from textsimilarity.get_w2v_features import get_word2vec_embeddings\n",
    "from textsimilarity.build_semantic_graph.build_semantic_graph import get_graph_from_sent\n",
    "from textsimilarity import draw_graph\n",
    "from sklearn.neighbors import KNeighborsClassifier\n",
    "from sklearn.cluster import KMeans\n",
    "from sklearn.cluster import DBSCAN\n",
    "from sklearn import metrics\n",
    "from sklearn.datasets import make_blobs\n",
    "from sklearn.preprocessing import StandardScaler\n",
    "from sentence_transformers import SentenceTransformer\n",
    "# from textsimilarity.srl_similarity import *\n",
    "model = SentenceTransformer('distilbert-base-nli-stsb-mean-tokens')"
   ]
  },
  {
   "cell_type": "code",
   "execution_count": 3,
   "metadata": {},
   "outputs": [
    {
     "data": {
      "text/html": [
       "<div>\n",
       "<style scoped>\n",
       "    .dataframe tbody tr th:only-of-type {\n",
       "        vertical-align: middle;\n",
       "    }\n",
       "\n",
       "    .dataframe tbody tr th {\n",
       "        vertical-align: top;\n",
       "    }\n",
       "\n",
       "    .dataframe thead th {\n",
       "        text-align: right;\n",
       "    }\n",
       "</style>\n",
       "<table border=\"1\" class=\"dataframe\">\n",
       "  <thead>\n",
       "    <tr style=\"text-align: right;\">\n",
       "      <th></th>\n",
       "      <th>Unnamed: 0</th>\n",
       "      <th>word1</th>\n",
       "      <th>word2</th>\n",
       "      <th>sent1</th>\n",
       "      <th>sent2</th>\n",
       "      <th>human_sim</th>\n",
       "      <th>srl_sim</th>\n",
       "    </tr>\n",
       "  </thead>\n",
       "  <tbody>\n",
       "    <tr>\n",
       "      <th>0</th>\n",
       "      <td>0</td>\n",
       "      <td>cord</td>\n",
       "      <td>smile</td>\n",
       "      <td>Cord is strong, thick string.</td>\n",
       "      <td>A smile is the expression that you have on you...</td>\n",
       "      <td>0.0100</td>\n",
       "      <td>0.000000</td>\n",
       "    </tr>\n",
       "    <tr>\n",
       "      <th>1</th>\n",
       "      <td>1</td>\n",
       "      <td>rooster</td>\n",
       "      <td>voyage</td>\n",
       "      <td>A rooster is an adult male chicken.</td>\n",
       "      <td>A voyage is a long journey on a ship or in a s...</td>\n",
       "      <td>0.0050</td>\n",
       "      <td>0.000000</td>\n",
       "    </tr>\n",
       "    <tr>\n",
       "      <th>2</th>\n",
       "      <td>2</td>\n",
       "      <td>noon</td>\n",
       "      <td>string</td>\n",
       "      <td>Noon is 12 o’clock in the middle of the day.</td>\n",
       "      <td>String is thin rope made of twisted threads, u...</td>\n",
       "      <td>0.0125</td>\n",
       "      <td>0.000000</td>\n",
       "    </tr>\n",
       "    <tr>\n",
       "      <th>3</th>\n",
       "      <td>3</td>\n",
       "      <td>fruit</td>\n",
       "      <td>furnace</td>\n",
       "      <td>Fruit or a fruit is something which grows on a...</td>\n",
       "      <td>A furnace is a container or enclosed space in ...</td>\n",
       "      <td>0.0475</td>\n",
       "      <td>2.842466</td>\n",
       "    </tr>\n",
       "    <tr>\n",
       "      <th>4</th>\n",
       "      <td>4</td>\n",
       "      <td>autograph</td>\n",
       "      <td>shore</td>\n",
       "      <td>An autograph is the signature of someone famou...</td>\n",
       "      <td>The shores or shore of a sea, lake, or wide ri...</td>\n",
       "      <td>0.0050</td>\n",
       "      <td>0.000000</td>\n",
       "    </tr>\n",
       "    <tr>\n",
       "      <th>...</th>\n",
       "      <td>...</td>\n",
       "      <td>...</td>\n",
       "      <td>...</td>\n",
       "      <td>...</td>\n",
       "      <td>...</td>\n",
       "      <td>...</td>\n",
       "      <td>...</td>\n",
       "    </tr>\n",
       "    <tr>\n",
       "      <th>59</th>\n",
       "      <td>59</td>\n",
       "      <td>cushion</td>\n",
       "      <td>pillow</td>\n",
       "      <td>A cushion is a fabric case filled with soft ma...</td>\n",
       "      <td>A pillow is a rectangular cushion which you re...</td>\n",
       "      <td>0.5225</td>\n",
       "      <td>1.055305</td>\n",
       "    </tr>\n",
       "    <tr>\n",
       "      <th>60</th>\n",
       "      <td>60</td>\n",
       "      <td>cemetery</td>\n",
       "      <td>graveyard</td>\n",
       "      <td>A cemetery is a place where dead people’s bodi...</td>\n",
       "      <td>A graveyard is an area of land, sometimes near...</td>\n",
       "      <td>0.7725</td>\n",
       "      <td>1.882579</td>\n",
       "    </tr>\n",
       "    <tr>\n",
       "      <th>61</th>\n",
       "      <td>61</td>\n",
       "      <td>automobile</td>\n",
       "      <td>car</td>\n",
       "      <td>An automobile is a car.</td>\n",
       "      <td>A car is a motor vehicle with room for a small...</td>\n",
       "      <td>0.5575</td>\n",
       "      <td>0.000000</td>\n",
       "    </tr>\n",
       "    <tr>\n",
       "      <th>62</th>\n",
       "      <td>62</td>\n",
       "      <td>midday</td>\n",
       "      <td>noon</td>\n",
       "      <td>Midday is 12 o’clock in the middle of the day.</td>\n",
       "      <td>Noon is 12 o’clock in the middle of the day.</td>\n",
       "      <td>0.9550</td>\n",
       "      <td>0.000000</td>\n",
       "    </tr>\n",
       "    <tr>\n",
       "      <th>63</th>\n",
       "      <td>63</td>\n",
       "      <td>gem</td>\n",
       "      <td>jewel</td>\n",
       "      <td>A gem is a jewel or stone that is used in jewe...</td>\n",
       "      <td>A jewel is a precious stone used to decorate v...</td>\n",
       "      <td>0.6525</td>\n",
       "      <td>1.000000</td>\n",
       "    </tr>\n",
       "  </tbody>\n",
       "</table>\n",
       "<p>64 rows × 7 columns</p>\n",
       "</div>"
      ],
      "text/plain": [
       "    Unnamed: 0       word1      word2  \\\n",
       "0            0        cord      smile   \n",
       "1            1     rooster     voyage   \n",
       "2            2        noon     string   \n",
       "3            3       fruit    furnace   \n",
       "4            4   autograph      shore   \n",
       "..         ...         ...        ...   \n",
       "59          59     cushion     pillow   \n",
       "60          60    cemetery  graveyard   \n",
       "61          61  automobile        car   \n",
       "62          62      midday       noon   \n",
       "63          63         gem      jewel   \n",
       "\n",
       "                                                sent1  \\\n",
       "0                       Cord is strong, thick string.   \n",
       "1                 A rooster is an adult male chicken.   \n",
       "2        Noon is 12 o’clock in the middle of the day.   \n",
       "3   Fruit or a fruit is something which grows on a...   \n",
       "4   An autograph is the signature of someone famou...   \n",
       "..                                                ...   \n",
       "59  A cushion is a fabric case filled with soft ma...   \n",
       "60  A cemetery is a place where dead people’s bodi...   \n",
       "61                            An automobile is a car.   \n",
       "62     Midday is 12 o’clock in the middle of the day.   \n",
       "63  A gem is a jewel or stone that is used in jewe...   \n",
       "\n",
       "                                                sent2  human_sim   srl_sim  \n",
       "0   A smile is the expression that you have on you...     0.0100  0.000000  \n",
       "1   A voyage is a long journey on a ship or in a s...     0.0050  0.000000  \n",
       "2   String is thin rope made of twisted threads, u...     0.0125  0.000000  \n",
       "3   A furnace is a container or enclosed space in ...     0.0475  2.842466  \n",
       "4   The shores or shore of a sea, lake, or wide ri...     0.0050  0.000000  \n",
       "..                                                ...        ...       ...  \n",
       "59  A pillow is a rectangular cushion which you re...     0.5225  1.055305  \n",
       "60  A graveyard is an area of land, sometimes near...     0.7725  1.882579  \n",
       "61  A car is a motor vehicle with room for a small...     0.5575  0.000000  \n",
       "62       Noon is 12 o’clock in the middle of the day.     0.9550  0.000000  \n",
       "63  A jewel is a precious stone used to decorate v...     0.6525  1.000000  \n",
       "\n",
       "[64 rows x 7 columns]"
      ]
     },
     "execution_count": 3,
     "metadata": {},
     "output_type": "execute_result"
    }
   ],
   "source": [
    "dictionary = pd.read_csv('../data/dictionary/processed/Li_srl.csv')\n",
    "dictionary"
   ]
  },
  {
   "cell_type": "code",
   "execution_count": 4,
   "metadata": {},
   "outputs": [
    {
     "data": {
      "text/plain": [
       "0.6667961149148282"
      ]
     },
     "execution_count": 4,
     "metadata": {},
     "output_type": "execute_result"
    }
   ],
   "source": [
    "ndcg_score(np.asarray([dictionary.human_sim.values.tolist()]), np.asarray([dictionary.srl_sim.values.tolist()]))"
   ]
  },
  {
   "cell_type": "code",
   "execution_count": 5,
   "metadata": {},
   "outputs": [
    {
     "data": {
      "text/plain": [
       "array([[1.        , 0.15253372],\n",
       "       [0.15253372, 1.        ]])"
      ]
     },
     "execution_count": 5,
     "metadata": {},
     "output_type": "execute_result"
    }
   ],
   "source": [
    "np.corrcoef(dictionary.human_sim.values.tolist(), dictionary.srl_sim.values.tolist())"
   ]
  },
  {
   "cell_type": "code",
   "execution_count": 6,
   "metadata": {},
   "outputs": [],
   "source": [
    "sentences1 = dictionary.sent1.values\n",
    "sentences2 = dictionary.sent2.values"
   ]
  },
  {
   "cell_type": "code",
   "execution_count": 7,
   "metadata": {},
   "outputs": [],
   "source": [
    "embeddings1 = model.encode(sentences1)\n",
    "embeddings2 = model.encode(sentences2)"
   ]
  },
  {
   "cell_type": "code",
   "execution_count": 8,
   "metadata": {},
   "outputs": [
    {
     "data": {
      "text/html": [
       "<div>\n",
       "<style scoped>\n",
       "    .dataframe tbody tr th:only-of-type {\n",
       "        vertical-align: middle;\n",
       "    }\n",
       "\n",
       "    .dataframe tbody tr th {\n",
       "        vertical-align: top;\n",
       "    }\n",
       "\n",
       "    .dataframe thead th {\n",
       "        text-align: right;\n",
       "    }\n",
       "</style>\n",
       "<table border=\"1\" class=\"dataframe\">\n",
       "  <thead>\n",
       "    <tr style=\"text-align: right;\">\n",
       "      <th></th>\n",
       "      <th>Unnamed: 0</th>\n",
       "      <th>word1</th>\n",
       "      <th>word2</th>\n",
       "      <th>sent1</th>\n",
       "      <th>sent2</th>\n",
       "      <th>human_sim</th>\n",
       "      <th>srl_sim</th>\n",
       "      <th>bert_sim</th>\n",
       "    </tr>\n",
       "  </thead>\n",
       "  <tbody>\n",
       "    <tr>\n",
       "      <th>0</th>\n",
       "      <td>0</td>\n",
       "      <td>cord</td>\n",
       "      <td>smile</td>\n",
       "      <td>Cord is strong, thick string.</td>\n",
       "      <td>A smile is the expression that you have on you...</td>\n",
       "      <td>0.0100</td>\n",
       "      <td>0.000000</td>\n",
       "      <td>0.031380</td>\n",
       "    </tr>\n",
       "    <tr>\n",
       "      <th>1</th>\n",
       "      <td>1</td>\n",
       "      <td>rooster</td>\n",
       "      <td>voyage</td>\n",
       "      <td>A rooster is an adult male chicken.</td>\n",
       "      <td>A voyage is a long journey on a ship or in a s...</td>\n",
       "      <td>0.0050</td>\n",
       "      <td>0.000000</td>\n",
       "      <td>0.008297</td>\n",
       "    </tr>\n",
       "    <tr>\n",
       "      <th>2</th>\n",
       "      <td>2</td>\n",
       "      <td>noon</td>\n",
       "      <td>string</td>\n",
       "      <td>Noon is 12 o’clock in the middle of the day.</td>\n",
       "      <td>String is thin rope made of twisted threads, u...</td>\n",
       "      <td>0.0125</td>\n",
       "      <td>0.000000</td>\n",
       "      <td>-0.062238</td>\n",
       "    </tr>\n",
       "    <tr>\n",
       "      <th>3</th>\n",
       "      <td>3</td>\n",
       "      <td>fruit</td>\n",
       "      <td>furnace</td>\n",
       "      <td>Fruit or a fruit is something which grows on a...</td>\n",
       "      <td>A furnace is a container or enclosed space in ...</td>\n",
       "      <td>0.0475</td>\n",
       "      <td>2.842466</td>\n",
       "      <td>0.143097</td>\n",
       "    </tr>\n",
       "    <tr>\n",
       "      <th>4</th>\n",
       "      <td>4</td>\n",
       "      <td>autograph</td>\n",
       "      <td>shore</td>\n",
       "      <td>An autograph is the signature of someone famou...</td>\n",
       "      <td>The shores or shore of a sea, lake, or wide ri...</td>\n",
       "      <td>0.0050</td>\n",
       "      <td>0.000000</td>\n",
       "      <td>0.073340</td>\n",
       "    </tr>\n",
       "  </tbody>\n",
       "</table>\n",
       "</div>"
      ],
      "text/plain": [
       "   Unnamed: 0      word1    word2  \\\n",
       "0           0       cord    smile   \n",
       "1           1    rooster   voyage   \n",
       "2           2       noon   string   \n",
       "3           3      fruit  furnace   \n",
       "4           4  autograph    shore   \n",
       "\n",
       "                                               sent1  \\\n",
       "0                      Cord is strong, thick string.   \n",
       "1                A rooster is an adult male chicken.   \n",
       "2       Noon is 12 o’clock in the middle of the day.   \n",
       "3  Fruit or a fruit is something which grows on a...   \n",
       "4  An autograph is the signature of someone famou...   \n",
       "\n",
       "                                               sent2  human_sim   srl_sim  \\\n",
       "0  A smile is the expression that you have on you...     0.0100  0.000000   \n",
       "1  A voyage is a long journey on a ship or in a s...     0.0050  0.000000   \n",
       "2  String is thin rope made of twisted threads, u...     0.0125  0.000000   \n",
       "3  A furnace is a container or enclosed space in ...     0.0475  2.842466   \n",
       "4  The shores or shore of a sea, lake, or wide ri...     0.0050  0.000000   \n",
       "\n",
       "   bert_sim  \n",
       "0  0.031380  \n",
       "1  0.008297  \n",
       "2 -0.062238  \n",
       "3  0.143097  \n",
       "4  0.073340  "
      ]
     },
     "execution_count": 8,
     "metadata": {},
     "output_type": "execute_result"
    }
   ],
   "source": [
    "dictionary['bert_sim'] = list(map(cosine_similarity, embeddings1, embeddings2))\n",
    "\n",
    "dictionary.head()"
   ]
  },
  {
   "cell_type": "code",
   "execution_count": 34,
   "metadata": {},
   "outputs": [
    {
     "data": {
      "text/plain": [
       "0.9787456506203578"
      ]
     },
     "execution_count": 34,
     "metadata": {},
     "output_type": "execute_result"
    }
   ],
   "source": [
    "ndcg_score(np.asarray([dictionary.human_sim.values.tolist()]), np.asarray([dictionary.bert_sim.values.tolist()]))"
   ]
  },
  {
   "cell_type": "code",
   "execution_count": 9,
   "metadata": {},
   "outputs": [
    {
     "data": {
      "text/plain": [
       "array([[1.        , 0.88485346],\n",
       "       [0.88485346, 1.        ]])"
      ]
     },
     "execution_count": 9,
     "metadata": {},
     "output_type": "execute_result"
    }
   ],
   "source": [
    "np.corrcoef(dictionary.human_sim.values.tolist(), dictionary.bert_sim.values.tolist())"
   ]
  },
  {
   "cell_type": "code",
   "execution_count": 5,
   "metadata": {
    "collapsed": true
   },
   "outputs": [
    {
     "name": "stdout",
     "output_type": "stream",
     "text": [
      "SRL got no result on sentence: Cord is strong, thick string.\n",
      "SRL got no result on sentence: A rooster is an adult male chicken.\n"
     ]
    },
    {
     "ename": "AttributeError",
     "evalue": "'NoneType' object has no attribute 'text'",
     "output_type": "error",
     "traceback": [
      "\u001b[0;31m---------------------------------------------------------------------------\u001b[0m",
      "\u001b[0;31mAttributeError\u001b[0m                            Traceback (most recent call last)",
      "\u001b[0;32m<ipython-input-5-9057a0e87d12>\u001b[0m in \u001b[0;36m<module>\u001b[0;34m\u001b[0m\n\u001b[0;32m----> 1\u001b[0;31m \u001b[0mdictionary\u001b[0m\u001b[0;34m[\u001b[0m\u001b[0;34m'srl_sim'\u001b[0m\u001b[0;34m]\u001b[0m \u001b[0;34m=\u001b[0m \u001b[0mlist\u001b[0m\u001b[0;34m(\u001b[0m\u001b[0mmap\u001b[0m\u001b[0;34m(\u001b[0m\u001b[0mget_wms_srl_recursive\u001b[0m\u001b[0;34m,\u001b[0m \u001b[0msentences1\u001b[0m\u001b[0;34m,\u001b[0m \u001b[0msentences2\u001b[0m\u001b[0;34m)\u001b[0m\u001b[0;34m)\u001b[0m\u001b[0;34m\u001b[0m\u001b[0;34m\u001b[0m\u001b[0m\n\u001b[0m\u001b[1;32m      2\u001b[0m \u001b[0;34m\u001b[0m\u001b[0m\n\u001b[1;32m      3\u001b[0m \u001b[0mdictionary\u001b[0m\u001b[0;34m.\u001b[0m\u001b[0mhead\u001b[0m\u001b[0;34m(\u001b[0m\u001b[0;34m)\u001b[0m\u001b[0;34m\u001b[0m\u001b[0;34m\u001b[0m\u001b[0m\n",
      "\u001b[0;32m~/projects/pattern-recognition/src/textsimilarity/srl_similarity.py\u001b[0m in \u001b[0;36mget_wms_srl_recursive\u001b[0;34m(sent1, sent2, verb_threshold)\u001b[0m\n\u001b[1;32m    104\u001b[0m \u001b[0;34m\u001b[0m\u001b[0m\n\u001b[1;32m    105\u001b[0m     \u001b[0mfirst_level_triples1\u001b[0m \u001b[0;34m=\u001b[0m \u001b[0mget_first_level_triples\u001b[0m\u001b[0;34m(\u001b[0m\u001b[0mall_triples1\u001b[0m\u001b[0;34m)\u001b[0m\u001b[0;34m\u001b[0m\u001b[0;34m\u001b[0m\u001b[0m\n\u001b[0;32m--> 106\u001b[0;31m     \u001b[0mfirst_level_triples2\u001b[0m \u001b[0;34m=\u001b[0m \u001b[0mget_first_level_triples\u001b[0m\u001b[0;34m(\u001b[0m\u001b[0mall_triples2\u001b[0m\u001b[0;34m)\u001b[0m\u001b[0;34m\u001b[0m\u001b[0;34m\u001b[0m\u001b[0m\n\u001b[0m\u001b[1;32m    107\u001b[0m \u001b[0;34m\u001b[0m\u001b[0m\n\u001b[1;32m    108\u001b[0m     \u001b[0mdoc1\u001b[0m \u001b[0;34m=\u001b[0m \u001b[0;34m[\u001b[0m\u001b[0mw\u001b[0m \u001b[0;32mfor\u001b[0m \u001b[0mw\u001b[0m \u001b[0;32min\u001b[0m \u001b[0msent1\u001b[0m\u001b[0;34m.\u001b[0m\u001b[0msplit\u001b[0m\u001b[0;34m(\u001b[0m\u001b[0;34m)\u001b[0m\u001b[0;34m]\u001b[0m\u001b[0;34m\u001b[0m\u001b[0;34m\u001b[0m\u001b[0m\n",
      "\u001b[0;32m~/projects/pattern-recognition/src/textsimilarity/srl_similarity.py\u001b[0m in \u001b[0;36mget_first_level_triples\u001b[0;34m(triples)\u001b[0m\n\u001b[1;32m     72\u001b[0m             \u001b[0;32mif\u001b[0m \u001b[0mi\u001b[0m \u001b[0;34m==\u001b[0m \u001b[0mj\u001b[0m\u001b[0;34m:\u001b[0m\u001b[0;34m\u001b[0m\u001b[0;34m\u001b[0m\u001b[0m\n\u001b[1;32m     73\u001b[0m                 \u001b[0;32mcontinue\u001b[0m\u001b[0;34m\u001b[0m\u001b[0;34m\u001b[0m\u001b[0m\n\u001b[0;32m---> 74\u001b[0;31m             \u001b[0;32mif\u001b[0m \u001b[0mverb\u001b[0m\u001b[0;34m.\u001b[0m\u001b[0mtext\u001b[0m \u001b[0;32min\u001b[0m \u001b[0mother_triple\u001b[0m\u001b[0;34m[\u001b[0m\u001b[0;36m0\u001b[0m\u001b[0;34m]\u001b[0m\u001b[0;34m.\u001b[0m\u001b[0mtext\u001b[0m \u001b[0;32mor\u001b[0m \u001b[0mverb\u001b[0m\u001b[0;34m.\u001b[0m\u001b[0mtext\u001b[0m \u001b[0;32min\u001b[0m \u001b[0mother_triple\u001b[0m\u001b[0;34m[\u001b[0m\u001b[0;36m2\u001b[0m\u001b[0;34m]\u001b[0m\u001b[0;34m.\u001b[0m\u001b[0mtext\u001b[0m\u001b[0;34m:\u001b[0m\u001b[0;34m\u001b[0m\u001b[0;34m\u001b[0m\u001b[0m\n\u001b[0m\u001b[1;32m     75\u001b[0m                 \u001b[0;31m# print('{} not in subject: {} and object: {}'.format(verb.text, other_triple[0].text, other_triple[2].text))\u001b[0m\u001b[0;34m\u001b[0m\u001b[0;34m\u001b[0m\u001b[0;34m\u001b[0m\u001b[0m\n\u001b[1;32m     76\u001b[0m                 \u001b[0mfirst_level_verb_flag\u001b[0m \u001b[0;34m=\u001b[0m \u001b[0;32mFalse\u001b[0m\u001b[0;34m\u001b[0m\u001b[0;34m\u001b[0m\u001b[0m\n",
      "\u001b[0;31mAttributeError\u001b[0m: 'NoneType' object has no attribute 'text'"
     ]
    }
   ],
   "source": [
    "dictionary['srl_sim'] = list(map(get_wms_srl_recursive, sentences1, sentences2))\n",
    "\n",
    "dictionary.head()"
   ]
  },
  {
   "cell_type": "code",
   "execution_count": 10,
   "metadata": {},
   "outputs": [
    {
     "name": "stderr",
     "output_type": "stream",
     "text": [
      "/Users/jiajinghu/projects/pattern-recognition/src/textsimilarity/get_similarity.py:60: FutureWarning: Using a non-tuple sequence for multidimensional indexing is deprecated; use `arr[tuple(seq)]` instead of `arr[seq]`. In the future this will be interpreted as an array index, `arr[np.array(seq)]`, which will result either in an error or a different result.\n",
      "  node_features.append(embeddings[[node['index']]].mean(axis=0))\n"
     ]
    },
    {
     "data": {
      "text/html": [
       "<div>\n",
       "<style scoped>\n",
       "    .dataframe tbody tr th:only-of-type {\n",
       "        vertical-align: middle;\n",
       "    }\n",
       "\n",
       "    .dataframe tbody tr th {\n",
       "        vertical-align: top;\n",
       "    }\n",
       "\n",
       "    .dataframe thead th {\n",
       "        text-align: right;\n",
       "    }\n",
       "</style>\n",
       "<table border=\"1\" class=\"dataframe\">\n",
       "  <thead>\n",
       "    <tr style=\"text-align: right;\">\n",
       "      <th></th>\n",
       "      <th>Unnamed: 0</th>\n",
       "      <th>word1</th>\n",
       "      <th>word2</th>\n",
       "      <th>sent1</th>\n",
       "      <th>sent2</th>\n",
       "      <th>human_sim</th>\n",
       "      <th>srl_sim</th>\n",
       "      <th>bert_sim</th>\n",
       "      <th>wms</th>\n",
       "      <th>graph_sim_0</th>\n",
       "      <th>graph_sim_0.9</th>\n",
       "    </tr>\n",
       "  </thead>\n",
       "  <tbody>\n",
       "    <tr>\n",
       "      <th>0</th>\n",
       "      <td>0</td>\n",
       "      <td>cord</td>\n",
       "      <td>smile</td>\n",
       "      <td>Cord is strong, thick string.</td>\n",
       "      <td>A smile is the expression that you have on you...</td>\n",
       "      <td>0.0100</td>\n",
       "      <td>0.000000</td>\n",
       "      <td>0.031380</td>\n",
       "      <td>0.480549</td>\n",
       "      <td>1.308765</td>\n",
       "      <td>0.873035</td>\n",
       "    </tr>\n",
       "    <tr>\n",
       "      <th>1</th>\n",
       "      <td>1</td>\n",
       "      <td>rooster</td>\n",
       "      <td>voyage</td>\n",
       "      <td>A rooster is an adult male chicken.</td>\n",
       "      <td>A voyage is a long journey on a ship or in a s...</td>\n",
       "      <td>0.0050</td>\n",
       "      <td>0.000000</td>\n",
       "      <td>0.008297</td>\n",
       "      <td>0.667930</td>\n",
       "      <td>1.908450</td>\n",
       "      <td>1.068503</td>\n",
       "    </tr>\n",
       "    <tr>\n",
       "      <th>2</th>\n",
       "      <td>2</td>\n",
       "      <td>noon</td>\n",
       "      <td>string</td>\n",
       "      <td>Noon is 12 o’clock in the middle of the day.</td>\n",
       "      <td>String is thin rope made of twisted threads, u...</td>\n",
       "      <td>0.0125</td>\n",
       "      <td>0.000000</td>\n",
       "      <td>-0.062238</td>\n",
       "      <td>0.337889</td>\n",
       "      <td>1.209262</td>\n",
       "      <td>0.904273</td>\n",
       "    </tr>\n",
       "    <tr>\n",
       "      <th>3</th>\n",
       "      <td>3</td>\n",
       "      <td>fruit</td>\n",
       "      <td>furnace</td>\n",
       "      <td>Fruit or a fruit is something which grows on a...</td>\n",
       "      <td>A furnace is a container or enclosed space in ...</td>\n",
       "      <td>0.0475</td>\n",
       "      <td>2.842466</td>\n",
       "      <td>0.143097</td>\n",
       "      <td>0.596266</td>\n",
       "      <td>2.364872</td>\n",
       "      <td>1.982638</td>\n",
       "    </tr>\n",
       "    <tr>\n",
       "      <th>4</th>\n",
       "      <td>4</td>\n",
       "      <td>autograph</td>\n",
       "      <td>shore</td>\n",
       "      <td>An autograph is the signature of someone famou...</td>\n",
       "      <td>The shores or shore of a sea, lake, or wide ri...</td>\n",
       "      <td>0.0050</td>\n",
       "      <td>0.000000</td>\n",
       "      <td>0.073340</td>\n",
       "      <td>0.505734</td>\n",
       "      <td>2.353160</td>\n",
       "      <td>1.350107</td>\n",
       "    </tr>\n",
       "  </tbody>\n",
       "</table>\n",
       "</div>"
      ],
      "text/plain": [
       "   Unnamed: 0      word1    word2  \\\n",
       "0           0       cord    smile   \n",
       "1           1    rooster   voyage   \n",
       "2           2       noon   string   \n",
       "3           3      fruit  furnace   \n",
       "4           4  autograph    shore   \n",
       "\n",
       "                                               sent1  \\\n",
       "0                      Cord is strong, thick string.   \n",
       "1                A rooster is an adult male chicken.   \n",
       "2       Noon is 12 o’clock in the middle of the day.   \n",
       "3  Fruit or a fruit is something which grows on a...   \n",
       "4  An autograph is the signature of someone famou...   \n",
       "\n",
       "                                               sent2  human_sim   srl_sim  \\\n",
       "0  A smile is the expression that you have on you...     0.0100  0.000000   \n",
       "1  A voyage is a long journey on a ship or in a s...     0.0050  0.000000   \n",
       "2  String is thin rope made of twisted threads, u...     0.0125  0.000000   \n",
       "3  A furnace is a container or enclosed space in ...     0.0475  2.842466   \n",
       "4  The shores or shore of a sea, lake, or wide ri...     0.0050  0.000000   \n",
       "\n",
       "   bert_sim       wms  graph_sim_0  graph_sim_0.9  \n",
       "0  0.031380  0.480549     1.308765       0.873035  \n",
       "1  0.008297  0.667930     1.908450       1.068503  \n",
       "2 -0.062238  0.337889     1.209262       0.904273  \n",
       "3  0.143097  0.596266     2.364872       1.982638  \n",
       "4  0.073340  0.505734     2.353160       1.350107  "
      ]
     },
     "execution_count": 10,
     "metadata": {},
     "output_type": "execute_result"
    }
   ],
   "source": [
    "wms_sents = []\n",
    "graph_sents0 = []\n",
    "graph_sents1 = []\n",
    "\n",
    "for _,row in dictionary.iterrows():\n",
    "    sent1 = row.sent1\n",
    "    sent2 = row.sent2\n",
    "    graph1, _, coref1 = get_graph_from_sent(sent1)\n",
    "    w2v1 = get_word2vec_embeddings(' '.join(coref1), with_coref=False)\n",
    "    \n",
    "    graph2, _, coref2 = get_graph_from_sent(sent2)\n",
    "    w2v2 = get_word2vec_embeddings(' '.join(coref2), with_coref=False)\n",
    "    \n",
    "    wms_sents.append(get_sent_similarity(coref1, coref2, w2v1, w2v2))\n",
    "    graph_sents0.append(get_sent_similarity(coref1, coref2, w2v1, w2v2, graph1, graph2, 0, threshold=0))\n",
    "    graph_sents1.append(get_sent_similarity(coref1, coref2, w2v1, w2v2, graph1, graph2, 0, threshold=0.9))\n",
    "    \n",
    "dictionary['wms'] = wms_sents\n",
    "dictionary['graph_sim_0'] = graph_sents0\n",
    "dictionary['graph_sim_0.9'] = graph_sents1\n",
    "\n",
    "dictionary.head()"
   ]
  },
  {
   "cell_type": "code",
   "execution_count": 37,
   "metadata": {},
   "outputs": [
    {
     "data": {
      "text/plain": [
       "0.8385309220090293"
      ]
     },
     "execution_count": 37,
     "metadata": {},
     "output_type": "execute_result"
    }
   ],
   "source": [
    "ndcg_score(np.asarray([dictionary.human_sim.values.tolist()]), np.asarray([dictionary.wms.values.tolist()]))"
   ]
  },
  {
   "cell_type": "code",
   "execution_count": 38,
   "metadata": {},
   "outputs": [
    {
     "data": {
      "text/plain": [
       "0.665854436242791"
      ]
     },
     "execution_count": 38,
     "metadata": {},
     "output_type": "execute_result"
    }
   ],
   "source": [
    "ndcg_score(np.asarray([dictionary.human_sim.values.tolist()]), np.asarray([dictionary.graph_sim_0.values.tolist()]))"
   ]
  },
  {
   "cell_type": "code",
   "execution_count": 39,
   "metadata": {},
   "outputs": [
    {
     "data": {
      "text/plain": [
       "0.7225152603858515"
      ]
     },
     "execution_count": 39,
     "metadata": {},
     "output_type": "execute_result"
    }
   ],
   "source": [
    "ndcg_score(np.asarray([dictionary.human_sim.values.tolist()]), np.asarray([dictionary['graph_sim_0.9'].values.tolist()]))"
   ]
  },
  {
   "cell_type": "code",
   "execution_count": 11,
   "metadata": {},
   "outputs": [
    {
     "data": {
      "text/plain": [
       "array([[1.        , 0.39451375],\n",
       "       [0.39451375, 1.        ]])"
      ]
     },
     "execution_count": 11,
     "metadata": {},
     "output_type": "execute_result"
    }
   ],
   "source": [
    "np.corrcoef(dictionary.human_sim.values.tolist(), dictionary.wms.values.tolist())"
   ]
  },
  {
   "cell_type": "code",
   "execution_count": 12,
   "metadata": {},
   "outputs": [
    {
     "data": {
      "text/plain": [
       "array([[1.        , 0.11663205],\n",
       "       [0.11663205, 1.        ]])"
      ]
     },
     "execution_count": 12,
     "metadata": {},
     "output_type": "execute_result"
    }
   ],
   "source": [
    "np.corrcoef(dictionary.human_sim.values.tolist(), dictionary.graph_sim_0.values.tolist())"
   ]
  },
  {
   "cell_type": "code",
   "execution_count": 13,
   "metadata": {},
   "outputs": [
    {
     "data": {
      "text/plain": [
       "array([[1.        , 0.24539045],\n",
       "       [0.24539045, 1.        ]])"
      ]
     },
     "execution_count": 13,
     "metadata": {},
     "output_type": "execute_result"
    }
   ],
   "source": [
    "np.corrcoef(dictionary.human_sim.values.tolist(), dictionary['graph_sim_0.9'].values.tolist())"
   ]
  },
  {
   "cell_type": "code",
   "execution_count": null,
   "metadata": {},
   "outputs": [],
   "source": []
  }
 ],
 "metadata": {
  "kernelspec": {
   "display_name": "patternrecognition",
   "language": "python",
   "name": "patternrecognition"
  },
  "language_info": {
   "codemirror_mode": {
    "name": "ipython",
    "version": 3
   },
   "file_extension": ".py",
   "mimetype": "text/x-python",
   "name": "python",
   "nbconvert_exporter": "python",
   "pygments_lexer": "ipython3",
   "version": "3.8.5"
  }
 },
 "nbformat": 4,
 "nbformat_minor": 2
}
