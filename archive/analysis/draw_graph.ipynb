{
 "cells": [
  {
   "cell_type": "code",
   "execution_count": 1,
   "metadata": {
    "id": "k1QUfX9M5gCq"
   },
   "outputs": [
    {
     "name": "stdout",
     "output_type": "stream",
     "text": [
      "Requirement already satisfied: networkx in /usr/local/lib/python3.7/site-packages (2.5)\n",
      "Requirement already satisfied: decorator>=4.3.0 in /usr/local/lib/python3.7/site-packages (from networkx) (4.4.0)\n"
     ]
    }
   ],
   "source": [
    "!pip3 install networkx"
   ]
  },
  {
   "cell_type": "code",
   "execution_count": 1,
   "metadata": {
    "id": "p_oB7BJ_SdoP"
   },
   "outputs": [],
   "source": [
    "# Import packages for data cleaning\n",
    "import numpy as np\n",
    "import pandas as pd\n",
    "# Import packages for data visualization\n",
    "import networkx as nx\n",
    "import matplotlib.pyplot as plt"
   ]
  },
  {
   "cell_type": "code",
   "execution_count": 2,
   "metadata": {
    "id": "1SW7ysGfSnRF"
   },
   "outputs": [],
   "source": [
    "graph = np.load('../data/obama/graphs_obama.npy', allow_pickle=True)"
   ]
  },
  {
   "cell_type": "code",
   "execution_count": 3,
   "metadata": {
    "colab": {
     "base_uri": "https://localhost:8080/",
     "height": 218
    },
    "id": "L246Z1MqSqbz",
    "outputId": "351c34dd-cdbf-479b-a708-4da8a23aadf9"
   },
   "outputs": [
    {
     "data": {
      "text/plain": [
       "[['', '', '', ''],\n",
       " ['nsubj', '', '', ''],\n",
       " ['pobj', '', '', ''],\n",
       " ['pobj', '', '', '']]"
      ]
     },
     "execution_count": 3,
     "metadata": {},
     "output_type": "execute_result"
    }
   ],
   "source": [
    "graph[0]['edges']"
   ]
  },
  {
   "cell_type": "code",
   "execution_count": 4,
   "metadata": {
    "colab": {
     "base_uri": "https://localhost:8080/",
     "height": 487
    },
    "id": "Dp3PpbLzSzci",
    "outputId": "5d8f29af-95bb-4f3f-eef7-3ceb44606e4a"
   },
   "outputs": [
    {
     "data": {
      "text/plain": [
       "[{'type': 'A', 'dep': 'root', 'pos': 'VERB', 'word': 'speaks', 'index': [1]},\n",
       " {'type': 'A', 'dep': 'nsubj', 'pos': 'PROPN', 'word': 'Omaba', 'index': [0]},\n",
       " {'type': 'M',\n",
       "  'dep': 'pobj',\n",
       "  'pos': 'NOUN',\n",
       "  'word': 'to the media',\n",
       "  'index': [2, 3, 4]},\n",
       " {'type': 'M',\n",
       "  'dep': 'pobj',\n",
       "  'pos': 'PROPN',\n",
       "  'word': 'in Illinois',\n",
       "  'index': [5, 6]}]"
      ]
     },
     "execution_count": 4,
     "metadata": {},
     "output_type": "execute_result"
    }
   ],
   "source": [
    "graph[0]['nodes']"
   ]
  },
  {
   "cell_type": "code",
   "execution_count": 5,
   "metadata": {
    "id": "25U3DUHlTCHz"
   },
   "outputs": [],
   "source": [
    "twitter = nx.DiGraph()"
   ]
  },
  {
   "cell_type": "code",
   "execution_count": 6,
   "metadata": {
    "id": "LsCZqWy2TLdL"
   },
   "outputs": [
    {
     "data": {
      "text/plain": [
       "{'speaks': array([-10.,   0.]),\n",
       " 'Omaba': array([-3.33333333,  0.        ]),\n",
       " 'to the media': array([3.33333333, 0.        ]),\n",
       " 'in Illinois': array([10.,  0.])}"
      ]
     },
     "execution_count": 6,
     "metadata": {},
     "output_type": "execute_result"
    }
   ],
   "source": [
    "# add nodes into networkx\n",
    "'''\n",
    "for node in graph[0]['nodes']:\n",
    "    twitter.add_node(node['word'])\n",
    "    nodes.append(node['word'])\n",
    "'''\n",
    "nodes = []\n",
    "count = 0\n",
    "column = 0\n",
    "#add index \n",
    "for node in graph[0]['nodes']:\n",
    "    twitter.add_node(node['word'],index=count)\n",
    "    #twitter.add_node(node['word'])\n",
    "    nodes.append(node['word'])\n",
    "    count += 1\n",
    "pos_0 = nx.multipartite_layout(twitter,subset_key='index',scale = 10)\n",
    "pos_0"
   ]
  },
  {
   "cell_type": "code",
   "execution_count": 8,
   "metadata": {
    "id": "I1sS20SDT-CK"
   },
   "outputs": [],
   "source": [
    "# add edges into networkx\n",
    "labels0 = {}\n",
    "for i in range(len(graph[0]['edges'])):\n",
    "    node1_index = i\n",
    "    node1_edge = graph[0]['edges'][i]\n",
    "    for j in range(len(node1_edge)):\n",
    "        if node1_edge[j] != '':\n",
    "            node2_index = j\n",
    "            twitter.add_edge(graph[0]['nodes'][i]['word'], graph[0]['nodes'][j]['word'], color='b')\n",
    "            labels0[(graph[0]['nodes'][i]['word'], graph[0]['nodes'][j]['word'])] = node1_edge[j]"
   ]
  },
  {
   "cell_type": "code",
   "execution_count": 10,
   "metadata": {},
   "outputs": [
    {
     "name": "stdout",
     "output_type": "stream",
     "text": [
      "[{'type': 'A', 'dep': 'root', 'pos': 'VERB', 'word': 'Omaba was born', 'index': [0, 7, 8]}, {'type': 'A', 'dep': 'advcl', 'pos': 'VERB', 'word': 'working', 'index': [2]}, {'type': 'M', 'dep': 'pobj', 'pos': 'NOUN', 'word': 'for a press', 'index': [3, 4, 5]}, {'type': 'M', 'dep': 'pobj', 'pos': 'PROPN', 'word': 'in Chicago', 'index': [9, 10]}]\n"
     ]
    }
   ],
   "source": [
    "for node in graph[1]['nodes']:\n",
    "    twitter.add_node(node['word'])\n",
    "\n",
    "labels1 = {}\n",
    "for i in range(len(graph[1]['edges'])):\n",
    "    node1_index = i\n",
    "    node1_edge = graph[1]['edges'][i]\n",
    "    for j in range(len(node1_edge)):\n",
    "        if node1_edge[j] != '':\n",
    "            node2_index = j\n",
    "            twitter.add_edge(graph[1]['nodes'][i]['word'], graph[1]['nodes'][j]['word'], color='b')\n",
    "            labels1[(graph[1]['nodes'][i]['word'], graph[1]['nodes'][j]['word'])] = node1_edge[j]"
   ]
  },
  {
   "cell_type": "code",
   "execution_count": 10,
   "metadata": {},
   "outputs": [],
   "source": [
    "word2vec_embeddings = np.load('../data/obama/interim/word2vec_embeddings_obama.npy', allow_pickle=True)\n",
    "bert_embeddings = np.load('../data/obama/interim/bert_embeddings_obama.npy', allow_pickle=True)"
   ]
  },
  {
   "cell_type": "code",
   "execution_count": 11,
   "metadata": {},
   "outputs": [
    {
     "name": "stderr",
     "output_type": "stream",
     "text": [
      "/usr/local/lib/python3.7/site-packages/ipykernel_launcher.py:12: FutureWarning: Using a non-tuple sequence for multidimensional indexing is deprecated; use `arr[tuple(seq)]` instead of `arr[seq]`. In the future this will be interpreted as an array index, `arr[np.array(seq)]`, which will result either in an error or a different result.\n",
      "  if sys.path[0] == '':\n"
     ]
    }
   ],
   "source": [
    "# link nearest node in two graphs\n",
    "\n",
    "def cosine_similarity(vec1, vec2):\n",
    "    dot = np.dot(vec1, vec2)\n",
    "    norm1 = np.linalg.norm(vec1)\n",
    "    norm2 = np.linalg.norm(vec2)\n",
    "    return dot/(norm1*norm2)\n",
    "\n",
    "def get_node_embeddings(graph, embeddings):\n",
    "    node_features = []\n",
    "    for node in graph['nodes']:\n",
    "        node_features.append(embeddings[[node['index']]].mean(axis=0))            \n",
    "    return np.array(node_features)\n",
    "    \n",
    "\n",
    "\n",
    "# embedding0 = get_node_embeddings(graph[0], word2vec_embeddings[0])\n",
    "# embedding1 = get_node_embeddings(graph[1], word2vec_embeddings[1])\n",
    "\n",
    "embedding0 = get_node_embeddings(graph[0], bert_embeddings[0])\n",
    "embedding1 = get_node_embeddings(graph[1], bert_embeddings[1])\n",
    "    \n",
    "w_match = 1\n",
    "w_nonmatch = 0.5\n",
    "    \n",
    "\n",
    "node_match = []\n",
    "word_match = []\n",
    "for i1, e1 in enumerate(embedding1):\n",
    "    node_sim = []\n",
    "    for e0 in embedding0:\n",
    "        if (np.all(e0==0))|(np.all(e1==0)):\n",
    "            node_sim.append(0)\n",
    "        else:\n",
    "            node_sim.append(cosine_similarity(e0, e1))\n",
    "    max_sim_node = np.argmax(node_sim)\n",
    "    node_match.append((max_sim_node, i1))\n",
    "    # word_match.append((graph[0][max_sim_node]['word'], graph[1][i1]['word']))\n",
    "\n",
    "for (i, j) in node_match:\n",
    "    twitter.add_edge(graph[0]['nodes'][i]['word'], graph[1]['nodes'][j]['word'], color='r')"
   ]
  },
  {
   "cell_type": "code",
   "execution_count": 12,
   "metadata": {
    "colab": {
     "base_uri": "https://localhost:8080/",
     "height": 218
    },
    "id": "Y_35fHzvWDg5",
    "outputId": "e3cf8f86-e52e-4094-f4c1-af3af2de8616"
   },
   "outputs": [
    {
     "data": {
      "text/plain": [
       "{'speaks': array([1.00000000e+00, 1.83784272e-08]),\n",
       " 'Omaba': array([0.70710678, 0.70710677]),\n",
       " 'to the media': array([-1.73863326e-08,  9.99999992e-01]),\n",
       " 'in Illinois': array([-0.70710672,  0.70710677]),\n",
       " 'Omaba was born': array([-9.99999947e-01, -6.90443471e-08]),\n",
       " 'working': array([-0.70710678, -0.70710667]),\n",
       " 'for a press': array([ 3.82499349e-08, -9.99999955e-01]),\n",
       " 'in Chicago': array([ 0.70710666, -0.70710685])}"
      ]
     },
     "execution_count": 12,
     "metadata": {},
     "output_type": "execute_result"
    }
   ],
   "source": [
    "# pos_ = nx.spring_layout(twitter)\n",
    "pos_ = nx.circular_layout(twitter)\n",
    "# pos_ = nx.bipartite_layout(twitter, nodes=nodes)\n",
    "pos_"
   ]
  },
  {
   "cell_type": "code",
   "execution_count": 13,
   "metadata": {
    "colab": {
     "base_uri": "https://localhost:8080/",
     "height": 54
    },
    "id": "_RjHlt0xWFqa",
    "outputId": "6fe368c3-c58d-4d4b-91c0-03a1c1907d19"
   },
   "outputs": [
    {
     "data": {
      "text/plain": [
       "OutEdgeView([('Omaba', 'speaks'), ('Omaba', 'Omaba was born'), ('to the media', 'speaks'), ('to the media', 'working'), ('to the media', 'for a press'), ('in Illinois', 'speaks'), ('in Illinois', 'in Chicago'), ('working', 'Omaba was born'), ('for a press', 'working'), ('in Chicago', 'Omaba was born')])"
      ]
     },
     "execution_count": 13,
     "metadata": {},
     "output_type": "execute_result"
    }
   ],
   "source": [
    "twitter.edges()"
   ]
  },
  {
   "cell_type": "code",
   "execution_count": 14,
   "metadata": {
    "colab": {
     "base_uri": "https://localhost:8080/",
     "height": 1000
    },
    "id": "RaP6wnmL3aAR",
    "outputId": "52de06ba-2907-46c9-9bfd-961cfd7ac34a",
    "scrolled": false
   },
   "outputs": [
    {
     "data": {
      "text/plain": [
       "{('working',\n",
       "  'Omaba was born'): Text(-0.8535533655498928, -0.3535533707657914, 'advcl'),\n",
       " ('for a press',\n",
       "  'working'): Text(-0.35355337274997994, -0.8535533138918769, 'pobj'),\n",
       " ('in Chicago',\n",
       "  'Omaba was born'): Text(-0.14644664488190828, -0.35355346017275624, 'pobj')}"
      ]
     },
     "execution_count": 14,
     "metadata": {},
     "output_type": "execute_result"
    },
    {
     "data": {
      "image/png": "[encoded data removed]",
      "text/plain": [
       "<Figure size 720x720 with 1 Axes>"
      ]
     },
     "metadata": {},
     "output_type": "display_data"
    }
   ],
   "source": [
    "plt.figure(figsize=(10,10))\n",
    "edges = twitter.edges()\n",
    "colors = [twitter[u][v]['color'] for u,v in edges]\n",
    "\n",
    "nx.draw(twitter, pos_, edge_color=colors)\n",
    "nx.draw_networkx_nodes(twitter, pos_)\n",
    "nx.draw_networkx_labels(twitter, pos_)\n",
    "#nx.draw_networkx_edges(twitter,pos_,connectionstyle='arc3,rad=0.5',edge_color=colors)\n",
    "#\n",
    "#,connectionstyle='arc3,rad=0.2'\n",
    "nx.draw_networkx_edge_labels(twitter, pos_,edge_labels=labels0)\n",
    "nx.draw_networkx_edge_labels(twitter, pos_,edge_labels=labels1)\n"
   ]
  },
  {
   "cell_type": "code",
   "execution_count": 18,
   "metadata": {
    "scrolled": false
   },
   "outputs": [
    {
     "name": "stdout",
     "output_type": "stream",
     "text": [
      "{'speaks': array([-10.,   0.]), 'Omaba': array([-7.14285714,  0.        ]), 'to the media': array([-4.28571429,  0.        ]), 'in Illinois': array([-1.42857143,  0.        ]), 'greets': array([1.42857143, 0.        ]), 'The president': array([4.28571429, 0.        ]), 'the press': array([7.14285714, 0.        ]), 'in Chicago': array([10.,  0.])}\n"
     ]
    },
    {
     "name": "stderr",
     "output_type": "stream",
     "text": [
      "/usr/local/lib/python3.7/site-packages/ipykernel_launcher.py:43: FutureWarning: Using a non-tuple sequence for multidimensional indexing is deprecated; use `arr[tuple(seq)]` instead of `arr[seq]`. In the future this will be interpreted as an array index, `arr[np.array(seq)]`, which will result either in an error or a different result.\n"
     ]
    },
    {
     "data": {
      "text/plain": [
       "{'speaks': Text(-10.0, 0.0, 'speaks'),\n",
       " 'Omaba': Text(-7.142857142857143, 0.0, 'Omaba'),\n",
       " 'to the media': Text(-4.285714285714286, 0.0, 'to the media'),\n",
       " 'in Illinois': Text(-1.4285714285714286, 0.0, 'in Illinois'),\n",
       " 'greets': Text(1.4285714285714286, 0.0, 'greets'),\n",
       " 'The president': Text(4.285714285714286, 0.0, 'The president'),\n",
       " 'the press': Text(7.142857142857143, 0.0, 'the press'),\n",
       " 'in Chicago': Text(10.0, 0.0, 'in Chicago')}"
      ]
     },
     "execution_count": 18,
     "metadata": {},
     "output_type": "execute_result"
    },
    {
     "data": {
      "image/png": "[encoded data removed]",
      "text/plain": [
       "<Figure size 720x720 with 1 Axes>"
      ]
     },
     "metadata": {},
     "output_type": "display_data"
    }
   ],
   "source": [
    "twitter = nx.DiGraph()\n",
    "nodes = []\n",
    "count = 0\n",
    "#add index \n",
    "for node in graph[0]['nodes']:\n",
    "    twitter.add_node(node['word'],index=count)\n",
    "    #twitter.add_node(node['word'])\n",
    "    nodes.append(node['word'])\n",
    "    count += 1\n",
    "labels0 = {}\n",
    "for i in range(len(graph[0]['edges'])):\n",
    "    node1_index = i\n",
    "    node1_edge = graph[0]['edges'][i]\n",
    "    for j in range(len(node1_edge)):\n",
    "        if node1_edge[j] != '':\n",
    "            node2_index = j\n",
    "            twitter.add_edge(graph[0]['nodes'][i]['word'], graph[0]['nodes'][j]['word'], color='b')\n",
    "            labels0[(graph[0]['nodes'][i]['word'], graph[0]['nodes'][j]['word'])] = node1_edge[j]\n",
    "\n",
    "for node in graph[2]['nodes']:\n",
    "    twitter.add_node(node['word'],index=count)\n",
    "    count += 1\n",
    "labels1 = {}\n",
    "for i in range(len(graph[2]['edges'])):\n",
    "    node1_index = i\n",
    "    node1_edge = graph[2]['edges'][i]\n",
    "    for j in range(len(node1_edge)):\n",
    "        if node1_edge[j] != '':\n",
    "            node2_index = j\n",
    "            twitter.add_edge(graph[2]['nodes'][i]['word'], graph[2]['nodes'][j]['word'], color='b')\n",
    "            labels1[(graph[2]['nodes'][i]['word'], graph[2]['nodes'][j]['word'])] = node1_edge[j]\n",
    "# link nearest node in two graphs\n",
    "\n",
    "def cosine_similarity(vec1, vec2):\n",
    "    dot = np.dot(vec1, vec2)\n",
    "    norm1 = np.linalg.norm(vec1)\n",
    "    norm2 = np.linalg.norm(vec2)\n",
    "    return dot/(norm1*norm2)\n",
    "\n",
    "def get_node_embeddings(graph, embeddings):\n",
    "    node_features = []\n",
    "    for node in graph['nodes']:\n",
    "        node_features.append(embeddings[[node['index']]].mean(axis=0))            \n",
    "    return np.array(node_features)\n",
    "    \n",
    "\n",
    "\n",
    "embedding0 = get_node_embeddings(graph[0], word2vec_embeddings[0])\n",
    "embedding2 = get_node_embeddings(graph[2], word2vec_embeddings[2])\n",
    "\n",
    "# embedding0 = get_node_embeddings(graph[0], bert_embeddings[0])\n",
    "# embedding2 = get_node_embeddings(graph[2], bert_embeddings[2])\n",
    "    \n",
    "w_match = 1\n",
    "w_nonmatch = 0.5\n",
    "    \n",
    "\n",
    "node_match = []\n",
    "word_match = []\n",
    "for i1, e1 in enumerate(embedding2):\n",
    "    node_sim = []\n",
    "    for e0 in embedding0:\n",
    "        if (np.all(e0==0))|(np.all(e1==0)):\n",
    "            node_sim.append(0)\n",
    "        else:\n",
    "            node_sim.append(cosine_similarity(e0, e1))\n",
    "    max_sim_node = np.argmax(node_sim)\n",
    "    node_match.append((max_sim_node, i1))\n",
    "    # word_match.append((graph[0][max_sim_node]['word'], graph[1][i1]['word']))\n",
    "\n",
    "for (i, j) in node_match:\n",
    "    twitter.add_edge(graph[0]['nodes'][i]['word'], graph[2]['nodes'][j]['word'], color='r')\n",
    "#print(twitter.nodes)\n",
    "pos_ = nx.multipartite_layout(twitter,subset_key='index',scale = 10)\n",
    "print(pos_)\n",
    "#pos_ = nx.circular_layout(twitter)\n",
    "plt.figure(figsize=(10,10))\n",
    "edges = twitter.edges()\n",
    "colors = [twitter[u][v]['color'] for u,v in edges]\n",
    "\n",
    "nx.draw(twitter, pos_,connectionstyle='arc3,rad=0.5', edge_color=colors)\n",
    "nx.draw_networkx_nodes(twitter, pos_)\n",
    "nx.draw_networkx_labels(twitter, pos_)\n",
    "#nx.draw_networkx_edges(twitter,pos_,connectionstyle='arc3,rad=0.5',edge_color=colors)\n",
    "#nx.draw_networkx_edge_labels(twitter, pos_,edge_labels=labels0)\n",
    "#nx.draw_networkx_edge_labels(twitter, pos_,edge_labels=labels1)"
   ]
  },
  {
   "cell_type": "code",
   "execution_count": 16,
   "metadata": {},
   "outputs": [],
   "source": [
    "G = nx.complete_multipartite_graph(28, 16, 10)"
   ]
  },
  {
   "cell_type": "code",
   "execution_count": 17,
   "metadata": {
    "scrolled": true
   },
   "outputs": [
    {
     "data": {
      "text/plain": [
       "NodeView(('speaks', 'Omaba', 'to the media', 'in Illinois', 'greets', 'The president', 'the press', 'in Chicago'))"
      ]
     },
     "execution_count": 17,
     "metadata": {},
     "output_type": "execute_result"
    }
   ],
   "source": [
    "pos = nx.multipartite_layout(G)\n",
    "twitter.nodes"
   ]
  },
  {
   "cell_type": "code",
   "execution_count": 53,
   "metadata": {},
   "outputs": [
    {
     "name": "stdout",
     "output_type": "stream",
     "text": [
      "speaks {'index': 0}\n",
      "Omaba {'index': 1}\n",
      "to the media {'index': 2}\n",
      "in Illinois {'index': 3}\n",
      "greets {'index': 4}\n",
      "The president {'index': 5}\n",
      "the press {'index': 6}\n",
      "in Chicago {'index': 7}\n"
     ]
    }
   ],
   "source": [
    "for v, data in twitter.nodes.items():\n",
    "    print(v,data)"
   ]
  },
  {
   "cell_type": "code",
   "execution_count": 2,
   "metadata": {},
   "outputs": [
    {
     "name": "stderr",
     "output_type": "stream",
     "text": [
      "/usr/local/lib/python3.7/site-packages/ipykernel_launcher.py:246: FutureWarning: Using a non-tuple sequence for multidimensional indexing is deprecated; use `arr[tuple(seq)]` instead of `arr[seq]`. In the future this will be interpreted as an array index, `arr[np.array(seq)]`, which will result either in an error or a different result.\n"
     ]
    },
    {
     "data": {
      "image/png": "[encoded data removed]",
      "text/plain": [
       "<Figure size 720x720 with 1 Axes>"
      ]
     },
     "metadata": {},
     "output_type": "display_data"
    }
   ],
   "source": [
    "# Import packages for data cleaning\n",
    "import numpy as np\n",
    "import pandas as pd\n",
    "# Import packages for data visualization\n",
    "import networkx as nx\n",
    "import matplotlib.pyplot as plt\n",
    "graph = np.load('../data/obama/graphs_obama.npy', allow_pickle=True)\n",
    "twitter = nx.DiGraph()\n",
    "\n",
    "# add nodes into networkx\n",
    "def add_nodes(i):\n",
    "    nodes = []\n",
    "    count = 0\n",
    "    Y = []\n",
    "    ind = count\n",
    "    column = 0\n",
    "    for node in graph[i]['nodes']:\n",
    "        Y.append(node['index'][0])\n",
    "    Y = sorted(Y)\n",
    "    for y in Y:\n",
    "        for node in graph[i]['nodes']:\n",
    "            if y == node['index'][0]:\n",
    "                twitter.add_node(node['word'], index=count, sentence=i, pos=node['index'][0])\n",
    "                nodes.append(node['word'])\n",
    "                count += 1\n",
    "                break\n",
    "#add index\n",
    "add_nodes(0)\n",
    "add_nodes(1)\n",
    "\n",
    "'''\n",
    "for node in graph[0]['nodes']:\n",
    "    twitter.add_node(node['word'],index=count,sentence = 0,pos = node['index'][0])\n",
    "    #twitter.add_node(node['word'])\n",
    "    nodes.append(node['word'])\n",
    "    count += 1\n",
    "    #ind = str(column)+'.'+str(count)\n",
    "count = 0\n",
    "for node in graph[1]['nodes']:\n",
    "    twitter.add_node(node['word'],index=count,sentence = 1,pos = node['index'][0])\n",
    "    #twitter.add_node(node['word'])\n",
    "    nodes.append(node['word'])\n",
    "    count += 1\n",
    "\n",
    "'''\n",
    "\n",
    "def _process_params(G, center, dim):\n",
    "    # Some boilerplate code.\n",
    "    import numpy as np\n",
    "\n",
    "    if not isinstance(G, nx.Graph):\n",
    "        empty_graph = nx.Graph()\n",
    "        empty_graph.add_nodes_from(G)\n",
    "        G = empty_graph\n",
    "\n",
    "    if center is None:\n",
    "        center = np.zeros(dim)\n",
    "    else:\n",
    "        center = np.asarray(center)\n",
    "\n",
    "    if len(center) != dim:\n",
    "        msg = \"length of center coordinates must match dimension of layout\"\n",
    "        raise ValueError(msg)\n",
    "\n",
    "    return G, center\n",
    "\n",
    "def rescale_layout(pos, scale=1):\n",
    "    \"\"\"Returns scaled position array to (-scale, scale) in all axes.\n",
    "\n",
    "    The function acts on NumPy arrays which hold position information.\n",
    "    Each position is one row of the array. The dimension of the space\n",
    "    equals the number of columns. Each coordinate in one column.\n",
    "\n",
    "    To rescale, the mean (center) is subtracted from each axis separately.\n",
    "    Then all values are scaled so that the largest magnitude value\n",
    "    from all axes equals `scale` (thus, the aspect ratio is preserved).\n",
    "    The resulting NumPy Array is returned (order of rows unchanged).\n",
    "\n",
    "    Parameters\n",
    "    ----------\n",
    "    pos : numpy array\n",
    "        positions to be scaled. Each row is a position.\n",
    "\n",
    "    scale : number (default: 1)\n",
    "        The size of the resulting extent in all directions.\n",
    "\n",
    "    Returns\n",
    "    -------\n",
    "    pos : numpy array\n",
    "        scaled positions. Each row is a position.\n",
    "\n",
    "    See Also\n",
    "    --------\n",
    "    rescale_layout_dict\n",
    "    \"\"\"\n",
    "    # Find max length over all dimensions\n",
    "    lim = 0  # max coordinate for all axes\n",
    "    for i in range(pos.shape[1]):\n",
    "        pos[:, i] -= pos[:, i].mean()\n",
    "        lim = max(abs(pos[:, i]).max(), lim)\n",
    "    # rescale to (-scale, scale) in all directions, preserves aspect\n",
    "    if lim > 0:\n",
    "        for i in range(pos.shape[1]):\n",
    "            pos[:, i] *= scale / lim\n",
    "    return pos\n",
    "\n",
    "\n",
    "def multiline_layout(G, subset_key=\"subset\", align=\"vertical\", scale=1, center=None):\n",
    "    \"\"\"Position nodes in layers of straight lines.\n",
    "\n",
    "    Parameters\n",
    "    ----------\n",
    "    G : NetworkX graph or list of nodes\n",
    "        A position will be assigned to every node in G.\n",
    "\n",
    "    subset_key : string (default='subset')\n",
    "        Key of node data to be used as layer subset.\n",
    "\n",
    "    align : string (default='vertical')\n",
    "        The alignment of nodes. Vertical or horizontal.\n",
    "\n",
    "    scale : number (default: 1)\n",
    "        Scale factor for positions.\n",
    "\n",
    "    center : array-like or None\n",
    "        Coordinate pair around which to center the layout.\n",
    "\n",
    "    num_sen: sentences number\n",
    "\n",
    "    Returns\n",
    "    -------\n",
    "    pos : dict\n",
    "        A dictionary of positions keyed by node.\n",
    "\n",
    "    Examples\n",
    "    --------\n",
    "    >>> G = nx.complete_multipartite_graph(28, 16, 10)\n",
    "    >>> pos = nx.multipartite_layout(G)\n",
    "\n",
    "    Notes\n",
    "    -----\n",
    "    This algorithm currently only works in two dimensions and does not\n",
    "    try to minimize edge crossings.\n",
    "\n",
    "    Network does not need to be a complete multipartite graph. As long as nodes\n",
    "    have subset_key data, they will be placed in the corresponding layers.\n",
    "\n",
    "    \"\"\"\n",
    "\n",
    "    import numpy as np\n",
    "\n",
    "    G, center = _process_params(G, center=center, dim=2)\n",
    "    if len(G) == 0:\n",
    "        return {}\n",
    "\n",
    "    layers = {}\n",
    "    for v, data in G.nodes(data=True):\n",
    "        try:\n",
    "            layer = data[subset_key]\n",
    "            sent = data['sentence']\n",
    "        except KeyError:\n",
    "            msg = \"all nodes must have subset_key (default='subset') as data\"\n",
    "            raise ValueError(msg)\n",
    "        layers[layer] = [v] + layers.get(layer, [])\n",
    "\n",
    "    pos = None\n",
    "    nodes = []\n",
    "    if align == \"vertical\":\n",
    "        width = len(layers)\n",
    "        for i, layer in layers.items():\n",
    "            height = len(layer)\n",
    "            xs = np.repeat(i, height)\n",
    "            ys = np.arange(0, height, dtype=float)\n",
    "            #ys = np.arange(0, height, dtype=float)\n",
    "            offset = ((width - 1) / 2, (height - 1) / 2)\n",
    "            layer_pos = np.column_stack([xs, ys]) - offset\n",
    "            if pos is None:\n",
    "                pos = layer_pos\n",
    "            else:\n",
    "                pos = np.concatenate([pos, layer_pos])\n",
    "            nodes.extend(layer)\n",
    "        pos = rescale_layout(pos, scale=scale) + center\n",
    "        pos = dict(zip(nodes, pos))\n",
    "        return pos\n",
    "\n",
    "    if align == \"horizontal\":\n",
    "        height = len(layers)\n",
    "        for i, layer in layers.items():\n",
    "            width = len(layer)\n",
    "            xs = np.arange(0, width, dtype=float)\n",
    "            ys = np.repeat(i, width)\n",
    "            offset = ((width - 1) / 2, (height - 1) / 2)\n",
    "            layer_pos = np.column_stack([xs, ys]) - offset\n",
    "            if pos is None:\n",
    "                pos = layer_pos\n",
    "            else:\n",
    "                pos = np.concatenate([pos, layer_pos])\n",
    "            nodes.extend(layer)\n",
    "        pos = rescale_layout(pos, scale=scale) + center\n",
    "        pos = dict(zip(nodes, pos))\n",
    "        return pos\n",
    "\n",
    "    msg = \"align must be either vertical or horizontal.\"\n",
    "    raise ValueError(msg)\n",
    "\n",
    "\n",
    "pos_0 = multiline_layout(twitter,subset_key='index',scale = 1)\n",
    "\n",
    "\n",
    "labels0 = {}\n",
    "for i in range(len(graph[0]['edges'])):\n",
    "    node1_index = i\n",
    "    node1_edge = graph[0]['edges'][i]\n",
    "    for j in range(len(node1_edge)):\n",
    "        if node1_edge[j] != '':\n",
    "            node2_index = j\n",
    "            twitter.add_edge(graph[0]['nodes'][i]['word'], graph[0]['nodes'][j]['word'], color='b')\n",
    "            labels0[(graph[0]['nodes'][i]['word'], graph[0]['nodes'][j]['word'])] = node1_edge[j]\n",
    "\n",
    "labels1 = {}\n",
    "for i in range(len(graph[1]['edges'])):\n",
    "    node1_index = i\n",
    "    node1_edge = graph[1]['edges'][i]\n",
    "    for j in range(len(node1_edge)):\n",
    "        if node1_edge[j] != '':\n",
    "            node2_index = j\n",
    "            twitter.add_edge(graph[1]['nodes'][i]['word'], graph[1]['nodes'][j]['word'], color='b')\n",
    "            labels1[(graph[1]['nodes'][i]['word'], graph[1]['nodes'][j]['word'])] = node1_edge[j]\n",
    "\n",
    "word2vec_embeddings = np.load('../data/obama/interim/word2vec_embeddings_obama.npy', allow_pickle=True)\n",
    "bert_embeddings = np.load('../data/obama/interim/bert_embeddings_obama.npy', allow_pickle=True)\n",
    "\n",
    "\n",
    "# link nearest node in two graphs\n",
    "\n",
    "def cosine_similarity(vec1, vec2):\n",
    "    dot = np.dot(vec1, vec2)\n",
    "    norm1 = np.linalg.norm(vec1)\n",
    "    norm2 = np.linalg.norm(vec2)\n",
    "    return dot / (norm1 * norm2)\n",
    "\n",
    "\n",
    "def get_node_embeddings(graph, embeddings):\n",
    "    node_features = []\n",
    "    for node in graph['nodes']:\n",
    "        node_features.append(embeddings[[node['index']]].mean(axis=0))\n",
    "    return np.array(node_features)\n",
    "\n",
    "\n",
    "# embedding0 = get_node_embeddings(graph[0], word2vec_embeddings[0])\n",
    "# embedding1 = get_node_embeddings(graph[1], word2vec_embeddings[1])\n",
    "\n",
    "embedding0 = get_node_embeddings(graph[0], bert_embeddings[0])\n",
    "embedding1 = get_node_embeddings(graph[1], bert_embeddings[1])\n",
    "\n",
    "w_match = 1\n",
    "w_nonmatch = 0.5\n",
    "\n",
    "node_match = []\n",
    "word_match = []\n",
    "for i1, e1 in enumerate(embedding1):\n",
    "    node_sim = []\n",
    "    for e0 in embedding0:\n",
    "        if (np.all(e0 == 0)) | (np.all(e1 == 0)):\n",
    "            node_sim.append(0)\n",
    "        else:\n",
    "            node_sim.append(cosine_similarity(e0, e1))\n",
    "    max_sim_node = np.argmax(node_sim)\n",
    "    node_match.append((max_sim_node, i1))\n",
    "    # word_match.append((graph[0][max_sim_node]['word'], graph[1][i1]['word']))\n",
    "\n",
    "for (i, j) in node_match:\n",
    "    twitter.add_edge(graph[0]['nodes'][i]['word'], graph[1]['nodes'][j]['word'], color='r')\n",
    "\n",
    "\n",
    "plt.figure(figsize=(10,10))\n",
    "edges = twitter.edges()\n",
    "colors = [twitter[u][v]['color'] for u,v in edges]\n",
    "\n",
    "nx.draw(twitter, pos_0,connectionstyle='arc3,rad=0.5', edge_color=colors)\n",
    "nx.draw_networkx_nodes(twitter, pos_0)\n",
    "nx.draw_networkx_labels(twitter, pos_0)\n",
    "plt.show()"
   ]
  },
  {
   "cell_type": "code",
   "execution_count": null,
   "metadata": {},
   "outputs": [],
   "source": []
  }
 ],
 "metadata": {
  "colab": {
   "collapsed_sections": [],
   "name": "draw_graph.ipynb",
   "provenance": []
  },
  "kernelspec": {
   "display_name": "Python 3",
   "language": "python",
   "name": "python3"
  },
  "language_info": {
   "codemirror_mode": {
    "name": "ipython",
    "version": 3
   },
   "file_extension": ".py",
   "mimetype": "text/x-python",
   "name": "python",
   "nbconvert_exporter": "python",
   "pygments_lexer": "ipython3",
   "version": "3.7.6"
  }
 },
 "nbformat": 4,
 "nbformat_minor": 1
}
